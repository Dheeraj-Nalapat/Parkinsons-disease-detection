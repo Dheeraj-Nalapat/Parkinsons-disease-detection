{
 "cells": [
  {
   "cell_type": "code",
   "execution_count": 1,
   "metadata": {},
   "outputs": [],
   "source": [
    "import pickle\n",
    "\n",
    "# Load the logistic regression model from a pickle file\n",
    "with open('logistic_regression_model.pkl', 'rb') as file:\n",
    "    model = pickle.load(file)"
   ]
  },
  {
   "cell_type": "code",
   "execution_count": 6,
   "metadata": {},
   "outputs": [
    {
     "name": "stdout",
     "output_type": "stream",
     "text": [
      "[[-0.89550966 -0.89442719]\n",
      " [-0.89506663 -0.89442719]\n",
      " [-0.89055574 -0.89442719]\n",
      " [-0.89548952 -0.89442719]\n",
      " [-0.89550966 -0.89442719]\n",
      " [ 1.11787673  1.11803399]\n",
      " [ 1.11769549  1.11803399]\n",
      " [ 1.11827949  1.11803399]\n",
      " [ 1.11827949  1.11803399]]\n"
     ]
    }
   ],
   "source": [
    "from sklearn.discriminant_analysis import StandardScaler\n",
    "\n",
    "\n",
    "new_data = [[0.00000,0],\n",
    "[0.00022,0],\n",
    "[0.00246,0],\n",
    "[0.00001,0],\n",
    "[0.00000,0],\n",
    "[0.99980,1],\n",
    "[0.99971,1],\n",
    "[1.00000,1],\n",
    "[1.00000,1]]\n",
    "scaler = StandardScaler()\n",
    "new_data_scaled = scaler.fit_transform(new_data)\n",
    "print(new_data_scaled)"
   ]
  },
  {
   "cell_type": "code",
   "execution_count": 8,
   "metadata": {},
   "outputs": [
    {
     "name": "stdout",
     "output_type": "stream",
     "text": [
      "0\n"
     ]
    }
   ],
   "source": [
    "predictions = model.predict(new_data_scaled)\n",
    "print(predictions[0])"
   ]
  }
 ],
 "metadata": {
  "kernelspec": {
   "display_name": "tf",
   "language": "python",
   "name": "python3"
  },
  "language_info": {
   "codemirror_mode": {
    "name": "ipython",
    "version": 3
   },
   "file_extension": ".py",
   "mimetype": "text/x-python",
   "name": "python",
   "nbconvert_exporter": "python",
   "pygments_lexer": "ipython3",
   "version": "3.9.16"
  },
  "orig_nbformat": 4
 },
 "nbformat": 4,
 "nbformat_minor": 2
}
