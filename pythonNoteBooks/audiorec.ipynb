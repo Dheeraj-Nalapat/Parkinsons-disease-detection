{
 "cells": [
  {
   "cell_type": "code",
   "execution_count": 17,
   "metadata": {},
   "outputs": [],
   "source": [
    "import sounddevice as sd\n",
    "import librosa\n",
    "import numpy as np"
   ]
  },
  {
   "cell_type": "code",
   "execution_count": 18,
   "metadata": {},
   "outputs": [],
   "source": [
    "\n",
    "def extract_features(signal, sr):\n",
    "    features = {}\n",
    "    \n",
    "    # Fundamental frequency features\n",
    "    pitches = librosa.yin(signal, fmin=50, fmax=300, sr=sr)\n",
    "    features['MDVP:Fo(Hz)'] = pitches.mean()\n",
    "    features['MDVP:Fhi(Hz)'] = pitches.max()\n",
    "    features['MDVP:Flo(Hz)'] = pitches.min()\n",
    "    \n",
    "    # Jitter features\n",
    "    features['MDVP:Jitter(%)'] = np.sqrt(np.mean(signal ** 2))\n",
    "    features['MDVP:Jitter(Abs)'] = np.mean(np.abs(signal))\n",
    "    features['MDVP:RAP'] = np.sqrt(np.mean(signal ** 2))\n",
    "    features['MDVP:PPQ'] = np.sqrt(np.mean(signal ** 2))\n",
    "    features['Jitter:DDP'] = features['MDVP:RAP'] * 3\n",
    "    \n",
    "    # Shimmer features\n",
    "    features['MDVP:Shimmer'] = np.sqrt(np.mean(signal ** 2))\n",
    "    features['MDVP:Shimmer(dB)'] = np.sqrt(np.mean(signal ** 2))\n",
    "    features['MDVP:APQ'] = np.sqrt(np.mean(signal ** 2))\n",
    "    features['Shimmer:DDA'] = features['MDVP:APQ'] * 3\n",
    "\n",
    "    # Other features\n",
    "    features['NHR'] = np.sqrt(np.mean(signal ** 2))\n",
    "    features['HNR'] = np.sqrt(np.mean(signal ** 2))\n",
    "    features['RPDE'] = np.sqrt(np.mean(signal ** 2))\n",
    "    features['DFA'] = np.sqrt(np.mean(signal ** 2))\n",
    "    features['spread1'] = np.sqrt(np.mean(signal ** 2))\n",
    "    features['spread2'] = np.sqrt(np.mean(signal ** 2))\n",
    "    features['D2'] = np.sqrt(np.mean(signal ** 2))\n",
    "    features['PPE'] = np.sqrt(np.mean(signal ** 2))\n",
    "    \n",
    "    return features"
   ]
  },
  {
   "cell_type": "code",
   "execution_count": 20,
   "metadata": {},
   "outputs": [],
   "source": [
    "# Set the sample rate for recording and processing the audio\n",
    "sample_rate = 22050  # Sample rate in Hz\n",
    "duration = 5  # Duration in seconds"
   ]
  },
  {
   "cell_type": "code",
   "execution_count": 21,
   "metadata": {},
   "outputs": [
    {
     "name": "stdout",
     "output_type": "stream",
     "text": [
      "Recording audio...\n"
     ]
    }
   ],
   "source": [
    "# Record audio from the microphone\n",
    "print('Recording audio...')\n",
    "recording = sd.rec(int(duration * sample_rate), samplerate=sample_rate, channels=1)\n",
    "sd.wait()  # Wait for the recording to complete\n"
   ]
  },
  {
   "cell_type": "code",
   "execution_count": 22,
   "metadata": {},
   "outputs": [],
   "source": [
    "# Flatten the recording array to one-dimensional\n",
    "signal = recording.flatten()\n"
   ]
  },
  {
   "cell_type": "code",
   "execution_count": 23,
   "metadata": {},
   "outputs": [],
   "source": [
    "# Extract features from the recorded audio\n",
    "extracted_features = extract_features(signal, sample_rate)"
   ]
  },
  {
   "cell_type": "code",
   "execution_count": 24,
   "metadata": {},
   "outputs": [
    {
     "name": "stdout",
     "output_type": "stream",
     "text": [
      "MDVP:Fo(Hz): 204.40307187447885\n",
      "MDVP:Fhi(Hz): 302.05479452054794\n",
      "MDVP:Flo(Hz): 50.0\n",
      "MDVP:Jitter(%): 0.02451223134994507\n",
      "MDVP:Jitter(Abs): 0.014885948970913887\n",
      "MDVP:RAP: 0.02451223134994507\n",
      "MDVP:PPQ: 0.02451223134994507\n",
      "Jitter:DDP: 0.0735366940498352\n",
      "MDVP:Shimmer: 0.02451223134994507\n",
      "MDVP:Shimmer(dB): 0.02451223134994507\n",
      "MDVP:APQ: 0.02451223134994507\n",
      "Shimmer:DDA: 0.0735366940498352\n",
      "NHR: 0.02451223134994507\n",
      "HNR: 0.02451223134994507\n",
      "RPDE: 0.02451223134994507\n",
      "DFA: 0.02451223134994507\n",
      "spread1: 0.02451223134994507\n",
      "spread2: 0.02451223134994507\n",
      "D2: 0.02451223134994507\n",
      "PPE: 0.02451223134994507\n"
     ]
    }
   ],
   "source": [
    "# Print the extracted features\n",
    "for feature, value in extracted_features.items():\n",
    "    print(f'{feature}: {value}')"
   ]
  }
 ],
 "metadata": {
  "kernelspec": {
   "display_name": "Python 3",
   "language": "python",
   "name": "python3"
  },
  "language_info": {
   "codemirror_mode": {
    "name": "ipython",
    "version": 3
   },
   "file_extension": ".py",
   "mimetype": "text/x-python",
   "name": "python",
   "nbconvert_exporter": "python",
   "pygments_lexer": "ipython3",
   "version": "3.11.2"
  },
  "orig_nbformat": 4
 },
 "nbformat": 4,
 "nbformat_minor": 2
}
