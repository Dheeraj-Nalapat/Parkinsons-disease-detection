{
 "cells": [
  {
   "cell_type": "code",
   "execution_count": 11,
   "metadata": {},
   "outputs": [],
   "source": [
    "import sounddevice as sd\n",
    "import librosa\n",
    "import numpy as np"
   ]
  },
  {
   "cell_type": "code",
   "execution_count": 12,
   "metadata": {},
   "outputs": [],
   "source": [
    "\n",
    "def extract_features(signal, sr):\n",
    "    features = {}\n",
    "    \n",
    "    # Fundamental frequency features\n",
    "    pitches = librosa.yin(signal, fmin=50, fmax=300, sr=sr)\n",
    "    features['MDVP:Fo(Hz)'] = pitches.mean()\n",
    "    features['MDVP:Fhi(Hz)'] = pitches.max()\n",
    "    features['MDVP:Flo(Hz)'] = pitches.min()\n",
    "    \n",
    "    # Jitter features\n",
    "    features['MDVP:Jitter(%)'] = np.sqrt(np.mean(signal ** 2))\n",
    "    features['MDVP:Jitter(Abs)'] = np.mean(np.abs(signal))\n",
    "    features['MDVP:RAP'] = np.sqrt(np.mean(signal ** 2))\n",
    "    features['MDVP:PPQ'] = np.sqrt(np.mean(signal ** 2))\n",
    "    features['Jitter:DDP'] = features['MDVP:RAP'] * 3\n",
    "    \n",
    "    # Shimmer features\n",
    "    features['MDVP:Shimmer'] = np.sqrt(np.mean(signal ** 2))\n",
    "    features['MDVP:Shimmer(dB)'] = np.sqrt(np.mean(signal ** 2))\n",
    "    features['MDVP:APQ'] = np.sqrt(np.mean(signal ** 2))\n",
    "    features['Shimmer:DDA'] = features['MDVP:APQ'] * 3\n",
    "    features['shimmer:APQ3'] = np.sqrt(np.mean(signal ** 2))\n",
    "    features['shimmer:APQ5'] = np.sqrt(np.mean(signal ** 2))\n",
    "\n",
    "    # Other features\n",
    "    features['NHR'] = np.sqrt(np.mean(signal ** 2))\n",
    "    features['HNR'] = np.sqrt(np.mean(signal ** 2))\n",
    "    features['RPDE'] = np.sqrt(np.mean(signal ** 2))\n",
    "    features['DFA'] = np.sqrt(np.mean(signal ** 2))\n",
    "    features['spread1'] = np.sqrt(np.mean(signal ** 2))\n",
    "    features['spread2'] = np.sqrt(np.mean(signal ** 2))\n",
    "    features['D2'] = np.sqrt(np.mean(signal ** 2))\n",
    "    features['PPE'] = np.sqrt(np.mean(signal ** 2))\n",
    "    \n",
    "    return features"
   ]
  },
  {
   "cell_type": "code",
   "execution_count": 13,
   "metadata": {},
   "outputs": [],
   "source": [
    "# Set the sample rate for recording and processing the audio\n",
    "sample_rate = 22050  # Sample rate in Hz\n",
    "duration = 5  # Duration in seconds"
   ]
  },
  {
   "cell_type": "code",
   "execution_count": 14,
   "metadata": {},
   "outputs": [
    {
     "name": "stdout",
     "output_type": "stream",
     "text": [
      "Recording audio...\n"
     ]
    }
   ],
   "source": [
    "# Record audio from the microphone\n",
    "print('Recording audio...')\n",
    "recording = sd.rec(int(duration * sample_rate), samplerate=sample_rate, channels=1)\n",
    "sd.wait()  # Wait for the recording to complete\n"
   ]
  },
  {
   "cell_type": "code",
   "execution_count": 15,
   "metadata": {},
   "outputs": [],
   "source": [
    "# Flatten the recording array to one-dimensional\n",
    "signal = recording.flatten()\n"
   ]
  },
  {
   "cell_type": "code",
   "execution_count": 16,
   "metadata": {},
   "outputs": [],
   "source": [
    "# Extract features from the recorded audio\n",
    "extracted_features = extract_features(signal, sample_rate)"
   ]
  },
  {
   "cell_type": "code",
   "execution_count": 17,
   "metadata": {},
   "outputs": [
    {
     "name": "stdout",
     "output_type": "stream",
     "text": [
      "MDVP:Fo(Hz): 98.3370288235719\n",
      "MDVP:Fhi(Hz): 302.05479452054794\n",
      "MDVP:Flo(Hz): 50.0\n",
      "MDVP:Jitter(%): 0.07193707674741745\n",
      "MDVP:Jitter(Abs): 0.04775933176279068\n",
      "MDVP:RAP: 0.07193707674741745\n",
      "MDVP:PPQ: 0.07193707674741745\n",
      "Jitter:DDP: 0.21581123024225235\n",
      "MDVP:Shimmer: 0.07193707674741745\n",
      "MDVP:Shimmer(dB): 0.07193707674741745\n",
      "MDVP:APQ: 0.07193707674741745\n",
      "Shimmer:DDA: 0.21581123024225235\n",
      "shimmer:APQ3: 0.07193707674741745\n",
      "shimmer:APQ5: 0.07193707674741745\n",
      "NHR: 0.07193707674741745\n",
      "HNR: 0.07193707674741745\n",
      "RPDE: 0.07193707674741745\n",
      "DFA: 0.07193707674741745\n",
      "spread1: 0.07193707674741745\n",
      "spread2: 0.07193707674741745\n",
      "D2: 0.07193707674741745\n",
      "PPE: 0.07193707674741745\n"
     ]
    }
   ],
   "source": [
    "# Print the extracted features\n",
    "for feature, value in extracted_features.items():\n",
    "    print(f'{feature}: {value}')"
   ]
  },
  {
   "cell_type": "code",
   "execution_count": 19,
   "metadata": {},
   "outputs": [
    {
     "name": "stdout",
     "output_type": "stream",
     "text": [
      "[98.3370288235719, 302.05479452054794, 50.0, 0.07193708, 0.04775933, 0.07193708, 0.07193708, 0.21581123024225235, 0.07193708, 0.07193708, 0.07193708, 0.21581123024225235, 0.07193708, 0.07193708, 0.07193708, 0.07193708, 0.07193708, 0.07193708, 0.07193708, 0.07193708, 0.07193708, 0.07193708]\n"
     ]
    }
   ],
   "source": [
    "feature_vector = []\n",
    "feature_order = ['MDVP:Fo(Hz)', 'MDVP:Fhi(Hz)', 'MDVP:Flo(Hz)', 'MDVP:Jitter(%)', 'MDVP:Jitter(Abs)', 'MDVP:RAP',\n",
    "                 'MDVP:PPQ', 'Jitter:DDP', 'MDVP:Shimmer', 'MDVP:Shimmer(dB)', 'MDVP:APQ', 'Shimmer:DDA','shimmer:APQ3','shimmer:APQ5',\n",
    "                 'NHR', 'HNR', 'RPDE', 'DFA', 'spread1', 'spread2', 'D2', 'PPE']\n",
    "\n",
    "for feature in feature_order:\n",
    "    feature_vector.append(extracted_features[feature])\n",
    "print(feature_vector)"
   ]
  }
 ],
 "metadata": {
  "kernelspec": {
   "display_name": "Python 3",
   "language": "python",
   "name": "python3"
  },
  "language_info": {
   "codemirror_mode": {
    "name": "ipython",
    "version": 3
   },
   "file_extension": ".py",
   "mimetype": "text/x-python",
   "name": "python",
   "nbconvert_exporter": "python",
   "pygments_lexer": "ipython3",
   "version": "3.9.16"
  },
  "orig_nbformat": 4
 },
 "nbformat": 4,
 "nbformat_minor": 2
}
