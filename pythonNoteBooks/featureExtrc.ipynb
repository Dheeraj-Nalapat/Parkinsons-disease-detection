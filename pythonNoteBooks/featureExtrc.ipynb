{
 "cells": [
  {
   "cell_type": "code",
   "execution_count": 98,
   "metadata": {},
   "outputs": [],
   "source": [
    "import sounddevice as sd\n",
    "import librosa\n",
    "import numpy as np\n"
   ]
  },
  {
   "cell_type": "code",
   "execution_count": 99,
   "metadata": {},
   "outputs": [],
   "source": [
    "def extract_features(signal, sr):\n",
    "    features = {}\n",
    "    \n",
    "    # Fundamental frequency features\n",
    "    pitches = librosa.yin(signal, fmin=50, fmax=300, sr=sr)\n",
    "    features['MDVP:Fo(Hz)'] = pitches.mean()\n",
    "    features['MDVP:Fhi(Hz)'] = pitches.max()\n",
    "    features['MDVP:Flo(Hz)'] = pitches.min()\n",
    "    \n",
    "    # Jitter features\n",
    "    features['MDVP:Jitter(%)'] = np.sqrt(np.mean(signal ** 2))\n",
    "    features['MDVP:Jitter(Abs)'] = np.mean(np.abs(signal))\n",
    "    features['MDVP:RAP'] = np.sqrt(np.mean(signal ** 2))\n",
    "    features['MDVP:PPQ'] = np.sqrt(np.mean(signal ** 2))\n",
    "    features['Jitter:DDP'] = features['MDVP:RAP'] * 3\n",
    "    \n",
    "    # Shimmer features\n",
    "    features['MDVP:Shimmer'] = np.sqrt(np.mean(signal ** 2))\n",
    "    features['MDVP:Shimmer(dB)'] = np.sqrt(np.mean(signal ** 2))\n",
    "    features['MDVP:APQ'] = np.sqrt(np.mean(signal ** 2))\n",
    "    features['Shimmer:DDA'] = features['MDVP:APQ'] * 3\n",
    "\n",
    "    # Other features\n",
    "    features['NHR'] = np.sqrt(np.mean(signal ** 2))\n",
    "    features['HNR'] = np.sqrt(np.mean(signal ** 2))\n",
    "    features['RPDE'] = np.sqrt(np.mean(signal ** 2))\n",
    "    features['DFA'] = np.sqrt(np.mean(signal ** 2))\n",
    "    features['spread1'] = np.sqrt(np.mean(signal ** 2))\n",
    "    features['spread2'] = np.sqrt(np.mean(signal ** 2))\n",
    "    features['D2'] = np.sqrt(np.mean(signal ** 2))\n",
    "    features['PPE'] = np.sqrt(np.mean(signal ** 2))\n",
    "    \n",
    "    return features\n"
   ]
  },
  {
   "cell_type": "code",
   "execution_count": 100,
   "metadata": {},
   "outputs": [],
   "source": [
    "# Set the sample rate for processing the audio\n",
    "sample_rate = 22050  # Sample rate in Hz"
   ]
  },
  {
   "cell_type": "code",
   "execution_count": 101,
   "metadata": {},
   "outputs": [],
   "source": [
    "# Prompt the user to provide the path to the audio file\n",
    "wav_file = input(\"Enter the path to the .wav file: \")\n"
   ]
  },
  {
   "cell_type": "code",
   "execution_count": 102,
   "metadata": {},
   "outputs": [],
   "source": [
    "# Load the audio file\n",
    "signal, sr = librosa.load(wav_file, sr=sample_rate, mono=True)\n"
   ]
  },
  {
   "cell_type": "code",
   "execution_count": 103,
   "metadata": {},
   "outputs": [],
   "source": [
    "# Extract features from the audio\n",
    "extracted_features = extract_features(signal, sr)\n"
   ]
  },
  {
   "cell_type": "code",
   "execution_count": 104,
   "metadata": {},
   "outputs": [
    {
     "name": "stdout",
     "output_type": "stream",
     "text": [
      "MDVP:Fo(Hz): 82.6516464182466\n",
      "MDVP:Fhi(Hz): 283.2861659149534\n",
      "MDVP:Flo(Hz): 50.0\n",
      "MDVP:Jitter(%): 0.14136280119419098\n",
      "MDVP:Jitter(Abs): 0.09860600531101227\n",
      "MDVP:RAP: 0.14136280119419098\n",
      "MDVP:PPQ: 0.14136280119419098\n",
      "Jitter:DDP: 0.42408840358257294\n",
      "MDVP:Shimmer: 0.14136280119419098\n",
      "MDVP:Shimmer(dB): 0.14136280119419098\n",
      "MDVP:APQ: 0.14136280119419098\n",
      "Shimmer:DDA: 0.42408840358257294\n",
      "NHR: 0.14136280119419098\n",
      "HNR: 0.14136280119419098\n",
      "RPDE: 0.14136280119419098\n",
      "DFA: 0.14136280119419098\n",
      "spread1: 0.14136280119419098\n",
      "spread2: 0.14136280119419098\n",
      "D2: 0.14136280119419098\n",
      "PPE: 0.14136280119419098\n"
     ]
    }
   ],
   "source": [
    "# Print the extracted features\n",
    "for feature, value in extracted_features.items():\n",
    "    print(f'{feature}: {value}')"
   ]
  }
 ],
 "metadata": {
  "kernelspec": {
   "display_name": "Python 3",
   "language": "python",
   "name": "python3"
  },
  "language_info": {
   "codemirror_mode": {
    "name": "ipython",
    "version": 3
   },
   "file_extension": ".py",
   "mimetype": "text/x-python",
   "name": "python",
   "nbconvert_exporter": "python",
   "pygments_lexer": "ipython3",
   "version": "3.11.2"
  },
  "orig_nbformat": 4
 },
 "nbformat": 4,
 "nbformat_minor": 2
}
