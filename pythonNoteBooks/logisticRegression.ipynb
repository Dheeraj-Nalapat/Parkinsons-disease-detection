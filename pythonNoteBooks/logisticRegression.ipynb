{
 "cells": [
  {
   "cell_type": "code",
   "execution_count": 1,
   "metadata": {},
   "outputs": [],
   "source": [
    "from sklearn.linear_model import LogisticRegression\n",
    "from sklearn.model_selection import train_test_split\n",
    "from sklearn.metrics import accuracy_score\n",
    "import pandas as pd"
   ]
  },
  {
   "cell_type": "code",
   "execution_count": 2,
   "metadata": {},
   "outputs": [
    {
     "data": {
      "text/html": [
       "<div>\n",
       "<style scoped>\n",
       "    .dataframe tbody tr th:only-of-type {\n",
       "        vertical-align: middle;\n",
       "    }\n",
       "\n",
       "    .dataframe tbody tr th {\n",
       "        vertical-align: top;\n",
       "    }\n",
       "\n",
       "    .dataframe thead th {\n",
       "        text-align: right;\n",
       "    }\n",
       "</style>\n",
       "<table border=\"1\" class=\"dataframe\">\n",
       "  <thead>\n",
       "    <tr style=\"text-align: right;\">\n",
       "      <th></th>\n",
       "      <th>cnn_output</th>\n",
       "      <th>svm_output</th>\n",
       "      <th>status</th>\n",
       "    </tr>\n",
       "  </thead>\n",
       "  <tbody>\n",
       "    <tr>\n",
       "      <th>0</th>\n",
       "      <td>0.00000</td>\n",
       "      <td>0</td>\n",
       "      <td>0</td>\n",
       "    </tr>\n",
       "    <tr>\n",
       "      <th>1</th>\n",
       "      <td>0.00000</td>\n",
       "      <td>0</td>\n",
       "      <td>0</td>\n",
       "    </tr>\n",
       "    <tr>\n",
       "      <th>2</th>\n",
       "      <td>0.00025</td>\n",
       "      <td>0</td>\n",
       "      <td>0</td>\n",
       "    </tr>\n",
       "    <tr>\n",
       "      <th>3</th>\n",
       "      <td>0.00215</td>\n",
       "      <td>0</td>\n",
       "      <td>1</td>\n",
       "    </tr>\n",
       "    <tr>\n",
       "      <th>4</th>\n",
       "      <td>0.00001</td>\n",
       "      <td>0</td>\n",
       "      <td>0</td>\n",
       "    </tr>\n",
       "  </tbody>\n",
       "</table>\n",
       "</div>"
      ],
      "text/plain": [
       "   cnn_output  svm_output  status\n",
       "0     0.00000           0       0\n",
       "1     0.00000           0       0\n",
       "2     0.00025           0       0\n",
       "3     0.00215           0       1\n",
       "4     0.00001           0       0"
      ]
     },
     "execution_count": 2,
     "metadata": {},
     "output_type": "execute_result"
    }
   ],
   "source": [
    "predictions_data = pd.read_csv(r'predictions.csv')\n",
    "predictions_data.head()"
   ]
  },
  {
   "cell_type": "code",
   "execution_count": 3,
   "metadata": {},
   "outputs": [],
   "source": [
    "X = predictions_data.drop('status', axis=1)  \n",
    "y = predictions_data['status']"
   ]
  },
  {
   "cell_type": "code",
   "execution_count": 4,
   "metadata": {},
   "outputs": [],
   "source": [
    "X_train, X_test, y_train, y_test = train_test_split(X, y, test_size=1, random_state=42)"
   ]
  },
  {
   "cell_type": "code",
   "execution_count": 5,
   "metadata": {},
   "outputs": [
    {
     "name": "stdout",
     "output_type": "stream",
     "text": [
      "    cnn_output  svm_output\n",
      "62     0.99991           1\n",
      "18     0.00000           0\n",
      "0      0.00000           0\n",
      "28     0.00001           0\n",
      "50     1.00000           1\n",
      "..         ...         ...\n",
      "23     0.00078           0\n",
      "20     0.00202           0\n",
      "60     0.99998           1\n",
      "14     0.00001           0\n",
      "51     1.00000           1\n",
      "\n",
      "[71 rows x 2 columns]\n"
     ]
    }
   ],
   "source": [
    "print(X_train)"
   ]
  },
  {
   "cell_type": "code",
   "execution_count": 6,
   "metadata": {},
   "outputs": [],
   "source": [
    "from sklearn.discriminant_analysis import StandardScaler\n",
    "\n",
    "\n",
    "scaler = StandardScaler()\n",
    "X_train = scaler.fit_transform(X_train)\n",
    "X_test = scaler.transform(X_test)"
   ]
  },
  {
   "cell_type": "code",
   "execution_count": 7,
   "metadata": {},
   "outputs": [
    {
     "name": "stdout",
     "output_type": "stream",
     "text": [
      "[[ 0.98610285  0.9860133 ]\n",
      " [-1.01509549 -1.01418511]\n",
      " [-1.01509549 -1.01418511]\n",
      " [-1.01507548 -1.01418511]\n",
      " [ 0.98628297  0.9860133 ]\n",
      " [-1.01443504 -1.01418511]\n",
      " [-1.01507548 -1.01418511]\n",
      " [-1.01397472 -1.01418511]\n",
      " [ 0.98606282  0.9860133 ]\n",
      " [ 0.98628297  0.9860133 ]\n",
      " [-1.01353442 -1.01418511]\n",
      " [-1.01505547 -1.01418511]\n",
      " [ 0.98478194  0.9860133 ]\n",
      " [-1.01413483 -1.01418511]\n",
      " [-1.01221351 -1.01418511]\n",
      " [ 0.98628297  0.9860133 ]\n",
      " [ 0.98628297  0.9860133 ]\n",
      " [-1.0101721  -1.01418511]\n",
      " [ 0.98628297  0.9860133 ]\n",
      " [ 0.98626296  0.9860133 ]\n",
      " [-1.01509549 -1.01418511]\n",
      " [-1.01509549 -1.01418511]\n",
      " [ 0.98620292  0.9860133 ]\n",
      " [ 0.98628297  0.9860133 ]\n",
      " [-1.01509549 -1.01418511]\n",
      " [ 0.98628297  0.9860133 ]\n",
      " [ 0.98624294  0.9860133 ]\n",
      " [-1.01499542 -1.01418511]\n",
      " [ 0.98628297  0.9860133 ]\n",
      " [ 0.98628297  0.9860133 ]\n",
      " [-1.01509549 -1.01418511]\n",
      " [ 0.98628297  0.9860133 ]\n",
      " [-1.01509549 -1.01418511]\n",
      " [ 0.98562252  0.9860133 ]\n",
      " [-1.01417486 -1.01418511]\n",
      " [ 0.9858827   0.9860133 ]\n",
      " [-1.01079253 -1.01418511]\n",
      " [-1.01401475 -1.01418511]\n",
      " [ 0.98628297  0.9860133 ]\n",
      " [-1.01357445 -1.01418511]\n",
      " [ 0.98628297  0.9860133 ]\n",
      " [-1.01509549 -1.01418511]\n",
      " [ 0.9858827   0.9860133 ]\n",
      " [ 0.98620292  0.9860133 ]\n",
      " [ 0.98628297  0.9860133 ]\n",
      " [ 0.98628297  0.9860133 ]\n",
      " [-1.01279391 -1.01418511]\n",
      " [-1.01425491 -1.01418511]\n",
      " [ 0.98306075  0.9860133 ]\n",
      " [-1.01509549 -1.01418511]\n",
      " [ 0.98626296  0.9860133 ]\n",
      " [-1.01509549 -1.01418511]\n",
      " [ 0.98628297  0.9860133 ]\n",
      " [ 0.98628297  0.9860133 ]\n",
      " [-1.01509549 -1.01418511]\n",
      " [-1.01465519 -1.01418511]\n",
      " [ 0.98628297  0.9860133 ]\n",
      " [ 0.9844417   0.9860133 ]\n",
      " [ 0.98570257  0.9860133 ]\n",
      " [-1.01429494 -1.01418511]\n",
      " [ 0.98586268  0.9860133 ]\n",
      " [ 0.98626296  0.9860133 ]\n",
      " [-1.01509549 -1.01418511]\n",
      " [ 0.98628297  0.9860133 ]\n",
      " [-1.01383462 -1.01418511]\n",
      " [-1.01459515 -1.01418511]\n",
      " [-1.01353442 -1.01418511]\n",
      " [-1.01105271 -1.01418511]\n",
      " [ 0.98624294  0.9860133 ]\n",
      " [-1.01507548 -1.01418511]\n",
      " [ 0.98628297  0.9860133 ]]\n"
     ]
    }
   ],
   "source": [
    "print(X_train)"
   ]
  },
  {
   "cell_type": "code",
   "execution_count": 8,
   "metadata": {},
   "outputs": [],
   "source": [
    "model = LogisticRegression()"
   ]
  },
  {
   "cell_type": "code",
   "execution_count": 9,
   "metadata": {},
   "outputs": [
    {
     "data": {
      "text/html": [
       "<style>#sk-container-id-1 {color: black;background-color: white;}#sk-container-id-1 pre{padding: 0;}#sk-container-id-1 div.sk-toggleable {background-color: white;}#sk-container-id-1 label.sk-toggleable__label {cursor: pointer;display: block;width: 100%;margin-bottom: 0;padding: 0.3em;box-sizing: border-box;text-align: center;}#sk-container-id-1 label.sk-toggleable__label-arrow:before {content: \"▸\";float: left;margin-right: 0.25em;color: #696969;}#sk-container-id-1 label.sk-toggleable__label-arrow:hover:before {color: black;}#sk-container-id-1 div.sk-estimator:hover label.sk-toggleable__label-arrow:before {color: black;}#sk-container-id-1 div.sk-toggleable__content {max-height: 0;max-width: 0;overflow: hidden;text-align: left;background-color: #f0f8ff;}#sk-container-id-1 div.sk-toggleable__content pre {margin: 0.2em;color: black;border-radius: 0.25em;background-color: #f0f8ff;}#sk-container-id-1 input.sk-toggleable__control:checked~div.sk-toggleable__content {max-height: 200px;max-width: 100%;overflow: auto;}#sk-container-id-1 input.sk-toggleable__control:checked~label.sk-toggleable__label-arrow:before {content: \"▾\";}#sk-container-id-1 div.sk-estimator input.sk-toggleable__control:checked~label.sk-toggleable__label {background-color: #d4ebff;}#sk-container-id-1 div.sk-label input.sk-toggleable__control:checked~label.sk-toggleable__label {background-color: #d4ebff;}#sk-container-id-1 input.sk-hidden--visually {border: 0;clip: rect(1px 1px 1px 1px);clip: rect(1px, 1px, 1px, 1px);height: 1px;margin: -1px;overflow: hidden;padding: 0;position: absolute;width: 1px;}#sk-container-id-1 div.sk-estimator {font-family: monospace;background-color: #f0f8ff;border: 1px dotted black;border-radius: 0.25em;box-sizing: border-box;margin-bottom: 0.5em;}#sk-container-id-1 div.sk-estimator:hover {background-color: #d4ebff;}#sk-container-id-1 div.sk-parallel-item::after {content: \"\";width: 100%;border-bottom: 1px solid gray;flex-grow: 1;}#sk-container-id-1 div.sk-label:hover label.sk-toggleable__label {background-color: #d4ebff;}#sk-container-id-1 div.sk-serial::before {content: \"\";position: absolute;border-left: 1px solid gray;box-sizing: border-box;top: 0;bottom: 0;left: 50%;z-index: 0;}#sk-container-id-1 div.sk-serial {display: flex;flex-direction: column;align-items: center;background-color: white;padding-right: 0.2em;padding-left: 0.2em;position: relative;}#sk-container-id-1 div.sk-item {position: relative;z-index: 1;}#sk-container-id-1 div.sk-parallel {display: flex;align-items: stretch;justify-content: center;background-color: white;position: relative;}#sk-container-id-1 div.sk-item::before, #sk-container-id-1 div.sk-parallel-item::before {content: \"\";position: absolute;border-left: 1px solid gray;box-sizing: border-box;top: 0;bottom: 0;left: 50%;z-index: -1;}#sk-container-id-1 div.sk-parallel-item {display: flex;flex-direction: column;z-index: 1;position: relative;background-color: white;}#sk-container-id-1 div.sk-parallel-item:first-child::after {align-self: flex-end;width: 50%;}#sk-container-id-1 div.sk-parallel-item:last-child::after {align-self: flex-start;width: 50%;}#sk-container-id-1 div.sk-parallel-item:only-child::after {width: 0;}#sk-container-id-1 div.sk-dashed-wrapped {border: 1px dashed gray;margin: 0 0.4em 0.5em 0.4em;box-sizing: border-box;padding-bottom: 0.4em;background-color: white;}#sk-container-id-1 div.sk-label label {font-family: monospace;font-weight: bold;display: inline-block;line-height: 1.2em;}#sk-container-id-1 div.sk-label-container {text-align: center;}#sk-container-id-1 div.sk-container {/* jupyter's `normalize.less` sets `[hidden] { display: none; }` but bootstrap.min.css set `[hidden] { display: none !important; }` so we also need the `!important` here to be able to override the default hidden behavior on the sphinx rendered scikit-learn.org. See: https://github.com/scikit-learn/scikit-learn/issues/21755 */display: inline-block !important;position: relative;}#sk-container-id-1 div.sk-text-repr-fallback {display: none;}</style><div id=\"sk-container-id-1\" class=\"sk-top-container\"><div class=\"sk-text-repr-fallback\"><pre>LogisticRegression()</pre><b>In a Jupyter environment, please rerun this cell to show the HTML representation or trust the notebook. <br />On GitHub, the HTML representation is unable to render, please try loading this page with nbviewer.org.</b></div><div class=\"sk-container\" hidden><div class=\"sk-item\"><div class=\"sk-estimator sk-toggleable\"><input class=\"sk-toggleable__control sk-hidden--visually\" id=\"sk-estimator-id-1\" type=\"checkbox\" checked><label for=\"sk-estimator-id-1\" class=\"sk-toggleable__label sk-toggleable__label-arrow\">LogisticRegression</label><div class=\"sk-toggleable__content\"><pre>LogisticRegression()</pre></div></div></div></div></div>"
      ],
      "text/plain": [
       "LogisticRegression()"
      ]
     },
     "execution_count": 9,
     "metadata": {},
     "output_type": "execute_result"
    }
   ],
   "source": [
    "model.fit(X_train, y_train)"
   ]
  },
  {
   "cell_type": "code",
   "execution_count": 10,
   "metadata": {},
   "outputs": [
    {
     "name": "stdout",
     "output_type": "stream",
     "text": [
      "[[-1.01507548 -1.01418511]]\n"
     ]
    }
   ],
   "source": [
    "print(X_test)"
   ]
  },
  {
   "cell_type": "code",
   "execution_count": 11,
   "metadata": {},
   "outputs": [
    {
     "name": "stdout",
     "output_type": "stream",
     "text": [
      "[0]\n"
     ]
    }
   ],
   "source": [
    "y_pred = model.predict(X_test)\n",
    "print(y_pred)\n"
   ]
  },
  {
   "cell_type": "code",
   "execution_count": 12,
   "metadata": {},
   "outputs": [
    {
     "name": "stdout",
     "output_type": "stream",
     "text": [
      "Accuracy: 1.0\n"
     ]
    }
   ],
   "source": [
    "accuracy = model.score(X_test, y_test)\n",
    "print(\"Accuracy:\", accuracy)"
   ]
  },
  {
   "cell_type": "code",
   "execution_count": 13,
   "metadata": {},
   "outputs": [],
   "source": [
    "import pickle\n",
    "\n",
    "# Save the logistic regression model to a pickle file\n",
    "with open('logistic_regression_model.pkl', 'wb') as file:\n",
    "    pickle.dump(model, file)"
   ]
  },
  {
   "cell_type": "code",
   "execution_count": 14,
   "metadata": {},
   "outputs": [
    {
     "name": "stdout",
     "output_type": "stream",
     "text": [
      "[[-1.00123476 -0.77459667]\n",
      " [-0.99631113 -0.77459667]\n",
      " [-1.00121475 -0.77459667]\n",
      " [-1.00123476 -0.77459667]\n",
      " [ 0.99984374 -0.77459667]\n",
      " [ 0.9996636   1.29099445]\n",
      " [ 1.00024403  1.29099445]\n",
      " [ 1.00024403  1.29099445]]\n"
     ]
    }
   ],
   "source": [
    "new_data = [[0.00000,0],\n",
    "[0.00246,0],\n",
    "[0.00001,0],\n",
    "[0.00000,0],\n",
    "[0.99980,0],\n",
    "[0.99971,1],\n",
    "[1.00000,1],\n",
    "[1.00000,1]]\n",
    "scaler = StandardScaler()\n",
    "new_data_scaled = scaler.fit_transform(new_data)\n",
    "print(new_data_scaled)"
   ]
  },
  {
   "cell_type": "code",
   "execution_count": 15,
   "metadata": {},
   "outputs": [
    {
     "name": "stdout",
     "output_type": "stream",
     "text": [
      "[0 0 0 0 1 1 1 1]\n"
     ]
    }
   ],
   "source": [
    "predictions = model.predict(new_data_scaled)\n",
    "print(predictions)"
   ]
  }
 ],
 "metadata": {
  "kernelspec": {
   "display_name": "tf",
   "language": "python",
   "name": "python3"
  },
  "language_info": {
   "codemirror_mode": {
    "name": "ipython",
    "version": 3
   },
   "file_extension": ".py",
   "mimetype": "text/x-python",
   "name": "python",
   "nbconvert_exporter": "python",
   "pygments_lexer": "ipython3",
   "version": "3.11.2"
  },
  "orig_nbformat": 4
 },
 "nbformat": 4,
 "nbformat_minor": 2
}
