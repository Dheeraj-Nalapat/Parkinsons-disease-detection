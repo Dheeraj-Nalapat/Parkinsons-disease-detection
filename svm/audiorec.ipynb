{
 "cells": [
  {
   "cell_type": "code",
   "execution_count": 1,
   "metadata": {},
   "outputs": [],
   "source": [
    "import sounddevice as sd\n",
    "import librosa\n",
    "import numpy as np\n",
    "import joblib\n",
    "from sklearn.neighbors import KNeighborsClassifier\n",
    "from sklearn.preprocessing import StandardScaler\n",
    "\n"
   ]
  },
  {
   "cell_type": "code",
   "execution_count": 3,
   "metadata": {},
   "outputs": [],
   "source": [
    "\n",
    "def extract_features(signal, sr):\n",
    "    features = {}\n",
    "    \n",
    "    # Fundamental frequency features\n",
    "    pitches = librosa.yin(signal, fmin=50, fmax=300, sr=sr)\n",
    "    features['MDVP:Fo(Hz)'] = pitches.mean()\n",
    "    features['MDVP:Fhi(Hz)'] = pitches.max()\n",
    "    features['MDVP:Flo(Hz)'] = pitches.min()\n",
    "    \n",
    "    # Jitter features\n",
    "    features['MDVP:Jitter(%)'] = np.sqrt(np.mean(signal ** 2))\n",
    "    features['MDVP:Jitter(Abs)'] = np.mean(np.abs(signal))\n",
    "    features['MDVP:RAP'] = np.sqrt(np.mean(signal ** 2))\n",
    "    features['MDVP:PPQ'] = np.sqrt(np.mean(signal ** 2))\n",
    "    features['Jitter:DDP'] = features['MDVP:RAP'] * 3\n",
    "    \n",
    "    # Shimmer features\n",
    "    features['MDVP:Shimmer'] = np.sqrt(np.mean(signal ** 2))\n",
    "    features['MDVP:Shimmer(dB)'] = np.sqrt(np.mean(signal ** 2))\n",
    "    features['MDVP:APQ'] = np.sqrt(np.mean(signal ** 2))\n",
    "    features['Shimmer:DDA'] = features['MDVP:APQ'] * 3\n",
    "    features['shimmer:APQ3'] = np.sqrt(np.mean(signal ** 2))\n",
    "    features['shimmer:APQ5'] = np.sqrt(np.mean(signal ** 2))\n",
    "\n",
    "    # Other features\n",
    "    features['NHR'] = np.sqrt(np.mean(signal ** 2))\n",
    "    features['HNR'] = np.sqrt(np.mean(signal ** 2))\n",
    "    features['RPDE'] = np.sqrt(np.mean(signal ** 2))\n",
    "    features['DFA'] = np.sqrt(np.mean(signal ** 2))\n",
    "    features['spread1'] = -np.sqrt(np.mean(signal ** 2))\n",
    "    features['spread2'] = np.sqrt(np.mean(signal ** 2))\n",
    "    features['D2'] = np.sqrt(np.mean(signal ** 2))\n",
    "    features['PPE'] = np.sqrt(np.mean(signal ** 2))\n",
    "    \n",
    "    return features\n"
   ]
  },
  {
   "cell_type": "code",
   "execution_count": 4,
   "metadata": {},
   "outputs": [],
   "source": [
    "# Set the sample rate for recording and processing the audio\n",
    "sample_rate = 22050  # Sample rate in Hz\n",
    "duration = 10  # Duration in seconds\n"
   ]
  },
  {
   "cell_type": "code",
   "execution_count": 5,
   "metadata": {},
   "outputs": [
    {
     "name": "stdout",
     "output_type": "stream",
     "text": [
      "Recording audio...\n"
     ]
    }
   ],
   "source": [
    "# Record audio from the microphone\n",
    "print('Recording audio...')\n",
    "recording = sd.rec(int(duration * sample_rate), samplerate=sample_rate, channels=1)\n",
    "sd.wait()  # Wait for the recording to complete\n"
   ]
  },
  {
   "cell_type": "code",
   "execution_count": 6,
   "metadata": {},
   "outputs": [],
   "source": [
    "# Flatten the recording array to one-dimensional\n",
    "signal = recording.flatten()\n"
   ]
  },
  {
   "cell_type": "code",
   "execution_count": 7,
   "metadata": {},
   "outputs": [],
   "source": [
    "# Extract features from the recorded audio\n",
    "extracted_features = extract_features(signal, sample_rate)\n"
   ]
  },
  {
   "cell_type": "code",
   "execution_count": 8,
   "metadata": {},
   "outputs": [
    {
     "name": "stdout",
     "output_type": "stream",
     "text": [
      "MDVP:Fo(Hz): 153.1582271517756\n",
      "MDVP:Fhi(Hz): 302.05479452054794\n",
      "MDVP:Flo(Hz): 50.0\n",
      "MDVP:Jitter(%): 0.06002994626760483\n",
      "MDVP:Jitter(Abs): 0.037192828953266144\n",
      "MDVP:RAP: 0.06002994626760483\n",
      "MDVP:PPQ: 0.06002994626760483\n",
      "Jitter:DDP: 0.18008983880281448\n",
      "MDVP:Shimmer: 0.06002994626760483\n",
      "MDVP:Shimmer(dB): 0.06002994626760483\n",
      "MDVP:APQ: 0.06002994626760483\n",
      "Shimmer:DDA: 0.18008983880281448\n",
      "shimmer:APQ3: 0.06002994626760483\n",
      "shimmer:APQ5: 0.06002994626760483\n",
      "NHR: 0.06002994626760483\n",
      "HNR: 0.06002994626760483\n",
      "RPDE: 0.06002994626760483\n",
      "DFA: 0.06002994626760483\n",
      "spread1: -0.06002994626760483\n",
      "spread2: 0.06002994626760483\n",
      "D2: 0.06002994626760483\n",
      "PPE: 0.06002994626760483\n"
     ]
    }
   ],
   "source": [
    "# Print the extracted features\n",
    "for feature, value in extracted_features.items():\n",
    "    print(f'{feature}: {value}')\n",
    "    "
   ]
  },
  {
   "cell_type": "code",
   "execution_count": 9,
   "metadata": {},
   "outputs": [
    {
     "name": "stdout",
     "output_type": "stream",
     "text": [
      "153.15823\n",
      "302.05479\n",
      "50.0\n",
      "0.06003\n",
      "0.03719\n",
      "0.06003\n",
      "0.06003\n",
      "0.18009\n",
      "0.06003\n",
      "0.06003\n",
      "0.06003\n",
      "0.18009\n",
      "0.06003\n",
      "0.06003\n",
      "0.06003\n",
      "0.06003\n",
      "0.06003\n",
      "0.06003\n",
      "-0.06003\n",
      "0.06003\n",
      "0.06003\n",
      "0.06003\n"
     ]
    }
   ],
   "source": [
    "# Round off the extracted features up to 5 decimal places\n",
    "rounded_features = {}\n",
    "for key, value in extracted_features.items():\n",
    "    rounded_features[key] = round(value, 5)\n",
    "    print(rounded_features[key])"
   ]
  },
  {
   "cell_type": "code",
   "execution_count": 10,
   "metadata": {},
   "outputs": [
    {
     "name": "stdout",
     "output_type": "stream",
     "text": [
      "[153.15823, 302.05479, 50.0, 0.06003, 0.03719, 0.06003, 0.06003, 0.18009, 0.06003, 0.06003, 0.06003, 0.18009, 0.06003, 0.06003, 0.06003, 0.06003, 0.06003, 0.06003, -0.06003, 0.06003, 0.06003, 0.06003]\n"
     ]
    }
   ],
   "source": [
    "# Preprocess the extracted features\n",
    "\n",
    "feature_vector = []\n",
    "feature_order = ['MDVP:Fo(Hz)', 'MDVP:Fhi(Hz)', 'MDVP:Flo(Hz)', 'MDVP:Jitter(%)', 'MDVP:Jitter(Abs)', 'MDVP:RAP',\n",
    "                 'MDVP:PPQ', 'Jitter:DDP', 'MDVP:Shimmer', 'MDVP:Shimmer(dB)', 'MDVP:APQ', 'Shimmer:DDA','shimmer:APQ3','shimmer:APQ5',\n",
    "                 'NHR', 'HNR', 'RPDE', 'DFA', 'spread1', 'spread2', 'D2', 'PPE']\n",
    "\n",
    "for feature in feature_order:\n",
    "    feature_vector.append(rounded_features[feature])\n",
    "\n",
    "print(feature_vector)"
   ]
  },
  {
   "cell_type": "code",
   "execution_count": null,
   "metadata": {},
   "outputs": [],
   "source": [
    "scaler = StandardScaler()\n",
    "scaler.fit()"
   ]
  },
  {
   "cell_type": "code",
   "execution_count": 15,
   "metadata": {},
   "outputs": [
    {
     "name": "stdout",
     "output_type": "stream",
     "text": [
      "[153.15823, 302.05479, 50.0, 0.06003, 0.03719, 0.06003, 0.06003, 0.18009, 0.06003, 0.06003, 0.06003, 0.18009, 0.06003, 0.06003, 0.06003, 0.06003, 0.06003, 0.06003, -0.06003, 0.06003, 0.06003, 0.06003, ['91.90400', '115.87100', '86.29200', '0.00540', '0.00006', '0.00281', '0.00336', '0.00844', '0.02752', '0.24900', '0.02214', '0.04272', '0.01424', '0.01641', '0.01141', '21.41400', '0.583390', '0.792520', '-4.960234', '0.363566', '2.642476', '0.275931'], ['136.92600', '159.86600', '131.27600', '0.00293', '0.00002', '0.00118', '0.00153', '0.00355', '0.01259', '0.11200', '0.01140', '0.01968', '0.00656', '0.00717', '0.00581', '25.70300', '0.460600', '0.646846', '-6.547148', '0.152813', '2.041277', '0.138512'], ['139.17300', '179.13900', '76.55600', '0.00390', '0.00003', '0.00165', '0.00208', '0.00496', '0.01642', '0.15400', '0.01797', '0.02184', '0.00728', '0.00932', '0.01041', '24.88900', '0.430166', '0.665833', '-5.660217', '0.254989', '2.519422', '0.199889'], ['152.84500', '163.30500', '75.83600', '0.00294', '0.00002', '0.00121', '0.00149', '0.00364', '0.01828', '0.15800', '0.01246', '0.03191', '0.01064', '0.00972', '0.00609', '24.92200', '0.474791', '0.654027', '-6.105098', '0.203653', '2.125618', '0.170100'], ['209.51600', '253.01700', '89.48800', '0.00564', '0.00003', '0.00331', '0.00292', '0.00994', '0.02751', '0.26300', '0.01879', '0.04812', '0.01604', '0.01657', '0.01810', '19.14700', '0.431674', '0.683244', '-6.195325', '0.129303', '2.784312', '0.168895'], ['174.68800', '240.00500', '74.28700', '0.01360', '0.00008', '0.00624', '0.00564', '0.01873', '0.02308', '0.25600', '0.01667', '0.03804', '0.01268', '0.01365', '0.10715', '17.88300', '0.407567', '0.655683', '-6.787197', '0.158453', '2.679772', '0.131728'], ['198.76400', '396.96100', '74.90400', '0.00740', '0.00004', '0.00370', '0.00390', '0.01109', '0.02296', '0.24100', '0.01588', '0.03794', '0.01265', '0.01321', '0.07223', '19.02000', '0.451221', '0.643956', '-6.744577', '0.207454', '2.138608', '0.123306'], ['214.28900', '260.27700', '77.97300', '0.00567', '0.00003', '0.00295', '0.00317', '0.00885', '0.01884', '0.19000', '0.01373', '0.03078', '0.01026', '0.01161', '0.04398', '21.20900', '0.462803', '0.664357', '-5.724056', '0.190667', '2.555477', '0.148569']]\n"
     ]
    }
   ],
   "source": [
    "scaler = StandardScaler()\n",
    "test_data=[['91.90400', '115.87100', '86.29200', '0.00540', '0.00006', '0.00281', '0.00336', '0.00844', '0.02752', '0.24900', '0.02214', '0.04272', '0.01424', '0.01641', '0.01141', '21.41400', '0.583390', '0.792520', '-4.960234', '0.363566', '2.642476', '0.275931'],\n",
    "['136.92600', '159.86600', '131.27600', '0.00293', '0.00002', '0.00118', '0.00153', '0.00355', '0.01259', '0.11200', '0.01140', '0.01968', '0.00656', '0.00717', '0.00581', '25.70300', '0.460600', '0.646846', '-6.547148', '0.152813', '2.041277', '0.138512'],\n",
    "['139.17300', '179.13900', '76.55600', '0.00390', '0.00003', '0.00165', '0.00208', '0.00496', '0.01642', '0.15400', '0.01797', '0.02184', '0.00728', '0.00932', '0.01041', '24.88900', '0.430166', '0.665833', '-5.660217', '0.254989', '2.519422', '0.199889'],\n",
    "['152.84500', '163.30500', '75.83600', '0.00294', '0.00002', '0.00121', '0.00149', '0.00364', '0.01828', '0.15800', '0.01246', '0.03191', '0.01064', '0.00972', '0.00609', '24.92200', '0.474791', '0.654027', '-6.105098', '0.203653', '2.125618', '0.170100'],\n",
    "['209.51600', '253.01700', '89.48800', '0.00564', '0.00003', '0.00331', '0.00292', '0.00994', '0.02751', '0.26300', '0.01879', '0.04812', '0.01604', '0.01657', '0.01810', '19.14700', '0.431674', '0.683244', '-6.195325', '0.129303', '2.784312', '0.168895'],\n",
    "['174.68800', '240.00500', '74.28700', '0.01360', '0.00008', '0.00624', '0.00564', '0.01873', '0.02308', '0.25600', '0.01667', '0.03804', '0.01268', '0.01365', '0.10715', '17.88300', '0.407567', '0.655683', '-6.787197', '0.158453', '2.679772', '0.131728'],\n",
    "['198.76400', '396.96100', '74.90400', '0.00740', '0.00004', '0.00370', '0.00390', '0.01109', '0.02296', '0.24100', '0.01588', '0.03794', '0.01265', '0.01321', '0.07223', '19.02000', '0.451221', '0.643956', '-6.744577', '0.207454', '2.138608', '0.123306'],\n",
    "['214.28900', '260.27700', '77.97300', '0.00567', '0.00003', '0.00295', '0.00317', '0.00885', '0.01884', '0.19000', '0.01373', '0.03078', '0.01026', '0.01161', '0.04398', '21.20900', '0.462803', '0.664357', '-5.724056', '0.190667', '2.555477', '0.148569']]\n",
    "new_data =[]\n",
    "new_data += feature_vector\n",
    "new_data += test_data\n",
    "print(new_data)"
   ]
  },
  {
   "cell_type": "code",
   "execution_count": 22,
   "metadata": {},
   "outputs": [
    {
     "ename": "AttributeError",
     "evalue": "'list' object has no attribute 'reshape'",
     "output_type": "error",
     "traceback": [
      "\u001b[1;31m---------------------------------------------------------------------------\u001b[0m",
      "\u001b[1;31mAttributeError\u001b[0m                            Traceback (most recent call last)",
      "Cell \u001b[1;32mIn[22], line 4\u001b[0m\n\u001b[0;32m      1\u001b[0m input_data_as_numpy_array \u001b[39m=\u001b[39m [np\u001b[39m.\u001b[39marray(arr) \u001b[39mfor\u001b[39;00m arr \u001b[39min\u001b[39;00m new_data]\n\u001b[0;32m      3\u001b[0m \u001b[39m# reshape the numpy array\u001b[39;00m\n\u001b[1;32m----> 4\u001b[0m input_data_reshaped \u001b[39m=\u001b[39m input_data_as_numpy_array\u001b[39m.\u001b[39;49mreshape(\u001b[39m1\u001b[39m,\u001b[39m-\u001b[39m\u001b[39m1\u001b[39m)\n\u001b[0;32m      6\u001b[0m \u001b[39m# standardize the data\u001b[39;00m\n\u001b[0;32m      8\u001b[0m new_data_scaled \u001b[39m=\u001b[39m scaler\u001b[39m.\u001b[39mtransform(input_data_reshaped)\n",
      "\u001b[1;31mAttributeError\u001b[0m: 'list' object has no attribute 'reshape'"
     ]
    }
   ],
   "source": [
    "input_data_as_numpy_array = [np.array(arr) for arr in new_data]\n",
    "\n",
    "# reshape the numpy array\n",
    "input_data_reshaped = input_data_as_numpy_array.reshape(1,-1)\n",
    "\n",
    "# standardize the data\n",
    "\n",
    "new_data_scaled = scaler.transform(input_data_reshaped)\n",
    "print(new_data_scaled)\n"
   ]
  },
  {
   "cell_type": "code",
   "execution_count": 24,
   "metadata": {},
   "outputs": [
    {
     "name": "stdout",
     "output_type": "stream",
     "text": [
      "[[153.15823 302.05479  50.        0.06003   0.03719   0.06003   0.06003\n",
      "    0.18009   0.06003   0.06003   0.06003   0.18009   0.06003   0.06003\n",
      "    0.06003   0.06003   0.06003   0.06003  -0.06003   0.06003   0.06003\n",
      "    0.06003]]\n"
     ]
    }
   ],
   "source": [
    "# Convert the feature vector to a numpy array\n",
    "feature_vector = np.array(feature_vector).reshape(1, -1)\n",
    "\n",
    "# Round the feature vector to 5 decimal places precision\n",
    "rounded_feature_vector = np.round(feature_vector, decimals=5)\n",
    "# Modify display settings to disable scientific notation\n",
    "np.set_printoptions(precision=5, suppress=True)\n",
    "\n",
    "print(rounded_feature_vector)\n",
    "\n",
    "#print(feature_vector)"
   ]
  },
  {
   "cell_type": "code",
   "execution_count": 26,
   "metadata": {},
   "outputs": [
    {
     "ename": "NotFittedError",
     "evalue": "This StandardScaler instance is not fitted yet. Call 'fit' with appropriate arguments before using this estimator.",
     "output_type": "error",
     "traceback": [
      "\u001b[1;31m---------------------------------------------------------------------------\u001b[0m",
      "\u001b[1;31mNotFittedError\u001b[0m                            Traceback (most recent call last)",
      "Cell \u001b[1;32mIn[26], line 2\u001b[0m\n\u001b[0;32m      1\u001b[0m scaler\u001b[39m=\u001b[39mStandardScaler()\n\u001b[1;32m----> 2\u001b[0m new_data_scaled\u001b[39m=\u001b[39mscaler\u001b[39m.\u001b[39;49mtransform(rounded_feature_vector)\n\u001b[0;32m      3\u001b[0m \u001b[39mprint\u001b[39m(new_data_scaled)\n",
      "File \u001b[1;32mc:\\Users\\dheer\\miniconda3\\envs\\tf\\lib\\site-packages\\sklearn\\utils\\_set_output.py:140\u001b[0m, in \u001b[0;36m_wrap_method_output.<locals>.wrapped\u001b[1;34m(self, X, *args, **kwargs)\u001b[0m\n\u001b[0;32m    138\u001b[0m \u001b[39m@wraps\u001b[39m(f)\n\u001b[0;32m    139\u001b[0m \u001b[39mdef\u001b[39;00m \u001b[39mwrapped\u001b[39m(\u001b[39mself\u001b[39m, X, \u001b[39m*\u001b[39margs, \u001b[39m*\u001b[39m\u001b[39m*\u001b[39mkwargs):\n\u001b[1;32m--> 140\u001b[0m     data_to_wrap \u001b[39m=\u001b[39m f(\u001b[39mself\u001b[39m, X, \u001b[39m*\u001b[39margs, \u001b[39m*\u001b[39m\u001b[39m*\u001b[39mkwargs)\n\u001b[0;32m    141\u001b[0m     \u001b[39mif\u001b[39;00m \u001b[39misinstance\u001b[39m(data_to_wrap, \u001b[39mtuple\u001b[39m):\n\u001b[0;32m    142\u001b[0m         \u001b[39m# only wrap the first output for cross decomposition\u001b[39;00m\n\u001b[0;32m    143\u001b[0m         \u001b[39mreturn\u001b[39;00m (\n\u001b[0;32m    144\u001b[0m             _wrap_data_with_container(method, data_to_wrap[\u001b[39m0\u001b[39m], X, \u001b[39mself\u001b[39m),\n\u001b[0;32m    145\u001b[0m             \u001b[39m*\u001b[39mdata_to_wrap[\u001b[39m1\u001b[39m:],\n\u001b[0;32m    146\u001b[0m         )\n",
      "File \u001b[1;32mc:\\Users\\dheer\\miniconda3\\envs\\tf\\lib\\site-packages\\sklearn\\preprocessing\\_data.py:989\u001b[0m, in \u001b[0;36mStandardScaler.transform\u001b[1;34m(self, X, copy)\u001b[0m\n\u001b[0;32m    974\u001b[0m \u001b[39mdef\u001b[39;00m \u001b[39mtransform\u001b[39m(\u001b[39mself\u001b[39m, X, copy\u001b[39m=\u001b[39m\u001b[39mNone\u001b[39;00m):\n\u001b[0;32m    975\u001b[0m \u001b[39m    \u001b[39m\u001b[39m\"\"\"Perform standardization by centering and scaling.\u001b[39;00m\n\u001b[0;32m    976\u001b[0m \n\u001b[0;32m    977\u001b[0m \u001b[39m    Parameters\u001b[39;00m\n\u001b[1;32m   (...)\u001b[0m\n\u001b[0;32m    987\u001b[0m \u001b[39m        Transformed array.\u001b[39;00m\n\u001b[0;32m    988\u001b[0m \u001b[39m    \"\"\"\u001b[39;00m\n\u001b[1;32m--> 989\u001b[0m     check_is_fitted(\u001b[39mself\u001b[39;49m)\n\u001b[0;32m    991\u001b[0m     copy \u001b[39m=\u001b[39m copy \u001b[39mif\u001b[39;00m copy \u001b[39mis\u001b[39;00m \u001b[39mnot\u001b[39;00m \u001b[39mNone\u001b[39;00m \u001b[39melse\u001b[39;00m \u001b[39mself\u001b[39m\u001b[39m.\u001b[39mcopy\n\u001b[0;32m    992\u001b[0m     X \u001b[39m=\u001b[39m \u001b[39mself\u001b[39m\u001b[39m.\u001b[39m_validate_data(\n\u001b[0;32m    993\u001b[0m         X,\n\u001b[0;32m    994\u001b[0m         reset\u001b[39m=\u001b[39m\u001b[39mFalse\u001b[39;00m,\n\u001b[1;32m   (...)\u001b[0m\n\u001b[0;32m    998\u001b[0m         force_all_finite\u001b[39m=\u001b[39m\u001b[39m\"\u001b[39m\u001b[39mallow-nan\u001b[39m\u001b[39m\"\u001b[39m,\n\u001b[0;32m    999\u001b[0m     )\n",
      "File \u001b[1;32mc:\\Users\\dheer\\miniconda3\\envs\\tf\\lib\\site-packages\\sklearn\\utils\\validation.py:1390\u001b[0m, in \u001b[0;36mcheck_is_fitted\u001b[1;34m(estimator, attributes, msg, all_or_any)\u001b[0m\n\u001b[0;32m   1385\u001b[0m     fitted \u001b[39m=\u001b[39m [\n\u001b[0;32m   1386\u001b[0m         v \u001b[39mfor\u001b[39;00m v \u001b[39min\u001b[39;00m \u001b[39mvars\u001b[39m(estimator) \u001b[39mif\u001b[39;00m v\u001b[39m.\u001b[39mendswith(\u001b[39m\"\u001b[39m\u001b[39m_\u001b[39m\u001b[39m\"\u001b[39m) \u001b[39mand\u001b[39;00m \u001b[39mnot\u001b[39;00m v\u001b[39m.\u001b[39mstartswith(\u001b[39m\"\u001b[39m\u001b[39m__\u001b[39m\u001b[39m\"\u001b[39m)\n\u001b[0;32m   1387\u001b[0m     ]\n\u001b[0;32m   1389\u001b[0m \u001b[39mif\u001b[39;00m \u001b[39mnot\u001b[39;00m fitted:\n\u001b[1;32m-> 1390\u001b[0m     \u001b[39mraise\u001b[39;00m NotFittedError(msg \u001b[39m%\u001b[39m {\u001b[39m\"\u001b[39m\u001b[39mname\u001b[39m\u001b[39m\"\u001b[39m: \u001b[39mtype\u001b[39m(estimator)\u001b[39m.\u001b[39m\u001b[39m__name__\u001b[39m})\n",
      "\u001b[1;31mNotFittedError\u001b[0m: This StandardScaler instance is not fitted yet. Call 'fit' with appropriate arguments before using this estimator."
     ]
    }
   ],
   "source": [
    "scaler=StandardScaler()\n",
    "new_data_scaled=scaler.transform(rounded_feature_vector)\n",
    "print(new_data_scaled)"
   ]
  },
  {
   "cell_type": "code",
   "execution_count": 99,
   "metadata": {},
   "outputs": [],
   "source": [
    "# Load the pre-trained SVM model\n",
    "svm_model = joblib.load(D:\\User\\Documents\\codes\\Parkinsons-disease-detection\\pythonNoteBooks\\SVM_model.pkl')"
   ]
  },
  {
   "cell_type": "code",
   "execution_count": 100,
   "metadata": {},
   "outputs": [],
   "source": [
    "# Perform prediction using the SVM model\n",
    "prediction = svm_model.predict(feature_vector)\n"
   ]
  },
  {
   "cell_type": "code",
   "execution_count": 104,
   "metadata": {},
   "outputs": [
    {
     "name": "stdout",
     "output_type": "stream",
     "text": [
      "Prediction: [0]\n"
     ]
    }
   ],
   "source": [
    "# Print the prediction\n",
    "print(f\"Prediction: {prediction}\")"
   ]
  }
 ],
 "metadata": {
  "kernelspec": {
   "display_name": "Python 3",
   "language": "python",
   "name": "python3"
  },
  "language_info": {
   "codemirror_mode": {
    "name": "ipython",
    "version": 3
   },
   "file_extension": ".py",
   "mimetype": "text/x-python",
   "name": "python",
   "nbconvert_exporter": "python",
   "pygments_lexer": "ipython3",
   "version": "3.9.16"
  },
  "orig_nbformat": 4
 },
 "nbformat": 4,
 "nbformat_minor": 2
}
