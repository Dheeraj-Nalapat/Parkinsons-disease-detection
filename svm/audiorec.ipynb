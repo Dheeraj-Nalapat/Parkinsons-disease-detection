{
 "cells": [
  {
   "cell_type": "code",
   "execution_count": 86,
   "metadata": {},
   "outputs": [],
   "source": [
    "import sounddevice as sd\n",
    "import librosa\n",
    "import numpy as np\n",
    "import joblib\n",
    "from sklearn.neighbors import KNeighborsClassifier\n",
    "from sklearn.preprocessing import StandardScaler\n",
    "\n"
   ]
  },
  {
   "cell_type": "code",
   "execution_count": 87,
   "metadata": {},
   "outputs": [],
   "source": [
    "\n",
    "def extract_features(signal, sr):\n",
    "    features = {}\n",
    "    \n",
    "    # Fundamental frequency features\n",
    "    pitches = librosa.yin(signal, fmin=50, fmax=300, sr=sr)\n",
    "    features['MDVP:Fo(Hz)'] = pitches.mean()\n",
    "    features['MDVP:Fhi(Hz)'] = pitches.max()\n",
    "    features['MDVP:Flo(Hz)'] = pitches.min()\n",
    "    \n",
    "    # Jitter features\n",
    "    features['MDVP:Jitter(%)'] = np.sqrt(np.mean(signal ** 2))\n",
    "    features['MDVP:Jitter(Abs)'] = np.mean(np.abs(signal))\n",
    "    features['MDVP:RAP'] = np.sqrt(np.mean(signal ** 2))\n",
    "    features['MDVP:PPQ'] = np.sqrt(np.mean(signal ** 2))\n",
    "    features['Jitter:DDP'] = features['MDVP:RAP'] * 3\n",
    "    \n",
    "    # Shimmer features\n",
    "    features['MDVP:Shimmer'] = np.sqrt(np.mean(signal ** 2))\n",
    "    features['MDVP:Shimmer(dB)'] = np.sqrt(np.mean(signal ** 2))\n",
    "    features['MDVP:APQ'] = np.sqrt(np.mean(signal ** 2))\n",
    "    features['Shimmer:DDA'] = features['MDVP:APQ'] * 3\n",
    "    features['shimmer:APQ3'] = np.sqrt(np.mean(signal ** 2))\n",
    "    features['shimmer:APQ5'] = np.sqrt(np.mean(signal ** 2))\n",
    "\n",
    "    # Other features\n",
    "    features['NHR'] = np.sqrt(np.mean(signal ** 2))\n",
    "    features['HNR'] = np.sqrt(np.mean(signal ** 2))\n",
    "    features['RPDE'] = np.sqrt(np.mean(signal ** 2))\n",
    "    features['DFA'] = np.sqrt(np.mean(signal ** 2))\n",
    "    features['spread1'] = -np.sqrt(np.mean(signal ** 2))\n",
    "    features['spread2'] = np.sqrt(np.mean(signal ** 2))\n",
    "    features['D2'] = np.sqrt(np.mean(signal ** 2))\n",
    "    features['PPE'] = np.sqrt(np.mean(signal ** 2))\n",
    "    \n",
    "    return features\n"
   ]
  },
  {
   "cell_type": "code",
   "execution_count": 89,
   "metadata": {},
   "outputs": [],
   "source": [
    "# Set the sample rate for recording and processing the audio\n",
    "sample_rate = 22050  # Sample rate in Hz\n",
    "duration = 10  # Duration in seconds\n"
   ]
  },
  {
   "cell_type": "code",
   "execution_count": 90,
   "metadata": {},
   "outputs": [
    {
     "name": "stdout",
     "output_type": "stream",
     "text": [
      "Recording audio...\n"
     ]
    }
   ],
   "source": [
    "# Record audio from the microphone\n",
    "print('Recording audio...')\n",
    "recording = sd.rec(int(duration * sample_rate), samplerate=sample_rate, channels=1)\n",
    "sd.wait()  # Wait for the recording to complete\n"
   ]
  },
  {
   "cell_type": "code",
   "execution_count": 91,
   "metadata": {},
   "outputs": [],
   "source": [
    "# Flatten the recording array to one-dimensional\n",
    "signal = recording.flatten()\n"
   ]
  },
  {
   "cell_type": "code",
   "execution_count": 92,
   "metadata": {},
   "outputs": [],
   "source": [
    "# Extract features from the recorded audio\n",
    "extracted_features = extract_features(signal, sample_rate)\n"
   ]
  },
  {
   "cell_type": "code",
   "execution_count": 93,
   "metadata": {},
   "outputs": [
    {
     "name": "stdout",
     "output_type": "stream",
     "text": [
      "MDVP:Fo(Hz): 119.18131675290358\n",
      "MDVP:Fhi(Hz): 302.05479452054794\n",
      "MDVP:Flo(Hz): 53.84911186339075\n",
      "MDVP:Jitter(%): 0.0013579943915829062\n",
      "MDVP:Jitter(Abs): 0.0007893481524661183\n",
      "MDVP:RAP: 0.0013579943915829062\n",
      "MDVP:PPQ: 0.0013579943915829062\n",
      "Jitter:DDP: 0.004073983174748719\n",
      "MDVP:Shimmer: 0.0013579943915829062\n",
      "MDVP:Shimmer(dB): 0.0013579943915829062\n",
      "MDVP:APQ: 0.0013579943915829062\n",
      "Shimmer:DDA: 0.004073983174748719\n",
      "shimmer:APQ3: 0.0013579943915829062\n",
      "shimmer:APQ5: 0.0013579943915829062\n",
      "NHR: 0.0013579943915829062\n",
      "HNR: 0.0013579943915829062\n",
      "RPDE: 0.0013579943915829062\n",
      "DFA: 0.0013579943915829062\n",
      "spread1: -0.0013579943915829062\n",
      "spread2: 0.0013579943915829062\n",
      "D2: 0.0013579943915829062\n",
      "PPE: 0.0013579943915829062\n"
     ]
    }
   ],
   "source": [
    "# Print the extracted features\n",
    "for feature, value in extracted_features.items():\n",
    "    print(f'{feature}: {value}')\n",
    "    "
   ]
  },
  {
   "cell_type": "code",
   "execution_count": 94,
   "metadata": {},
   "outputs": [
    {
     "name": "stdout",
     "output_type": "stream",
     "text": [
      "119.18132\n",
      "302.05479\n",
      "53.84911\n",
      "0.00136\n",
      "0.00079\n",
      "0.00136\n",
      "0.00136\n",
      "0.00407\n",
      "0.00136\n",
      "0.00136\n",
      "0.00136\n",
      "0.00407\n",
      "0.00136\n",
      "0.00136\n",
      "0.00136\n",
      "0.00136\n",
      "0.00136\n",
      "0.00136\n",
      "-0.00136\n",
      "0.00136\n",
      "0.00136\n",
      "0.00136\n"
     ]
    }
   ],
   "source": [
    "# Round off the extracted features up to 5 decimal places\n",
    "rounded_features = {}\n",
    "for key, value in extracted_features.items():\n",
    "    rounded_features[key] = round(value, 5)\n",
    "    print(rounded_features[key])"
   ]
  },
  {
   "cell_type": "code",
   "execution_count": 111,
   "metadata": {},
   "outputs": [
    {
     "name": "stdout",
     "output_type": "stream",
     "text": [
      "[119.18132, 302.05479, 53.84911, 0.00136, 0.00079, 0.00136, 0.00136, 0.00407, 0.00136, 0.00136, 0.00136, 0.00407, 0.00136, 0.00136, 0.00136, 0.00136, 0.00136, 0.00136, -0.00136, 0.00136, 0.00136, 0.00136]\n"
     ]
    }
   ],
   "source": [
    "# Preprocess the extracted features\n",
    "\n",
    "feature_vector = []\n",
    "feature_order = ['MDVP:Fo(Hz)', 'MDVP:Fhi(Hz)', 'MDVP:Flo(Hz)', 'MDVP:Jitter(%)', 'MDVP:Jitter(Abs)', 'MDVP:RAP',\n",
    "                 'MDVP:PPQ', 'Jitter:DDP', 'MDVP:Shimmer', 'MDVP:Shimmer(dB)', 'MDVP:APQ', 'Shimmer:DDA','shimmer:APQ3','shimmer:APQ5',\n",
    "                 'NHR', 'HNR', 'RPDE', 'DFA', 'spread1', 'spread2', 'D2', 'PPE']\n",
    "\n",
    "for feature in feature_order:\n",
    "    feature_vector.append(rounded_features[feature])\n",
    "\n",
    "print(feature_vector)"
   ]
  },
  {
   "cell_type": "code",
   "execution_count": 118,
   "metadata": {},
   "outputs": [
    {
     "name": "stdout",
     "output_type": "stream",
     "text": [
      "[[119.18132 302.05479  53.84911   0.00136   0.00079   0.00136   0.00136\n",
      "    0.00407   0.00136   0.00136   0.00136   0.00407   0.00136   0.00136\n",
      "    0.00136   0.00136   0.00136   0.00136  -0.00136   0.00136   0.00136\n",
      "    0.00136]]\n"
     ]
    }
   ],
   "source": [
    "# Convert the feature vector to a numpy array\n",
    "feature_vector = np.array(feature_vector).reshape(1, -1)\n",
    "\n",
    "# Round the feature vector to 5 decimal places precision\n",
    "rounded_feature_vector = np.round(feature_vector, decimals=5)\n",
    "# Modify display settings to disable scientific notation\n",
    "np.set_printoptions(precision=5, suppress=True)\n",
    "\n",
    "print(rounded_feature_vector)\n",
    "\n",
    "#print(feature_vector)"
   ]
  },
  {
   "cell_type": "code",
   "execution_count": 114,
   "metadata": {},
   "outputs": [
    {
     "name": "stdout",
     "output_type": "stream",
     "text": [
      "[array([ 1.2e+02,  3.0e+02,  5.4e+01,  1.4e-03,  7.9e-04,  1.4e-03,\n",
      "        1.4e-03,  4.1e-03,  1.4e-03,  1.4e-03,  1.4e-03,  4.1e-03,\n",
      "        1.4e-03,  1.4e-03,  1.4e-03,  1.4e-03,  1.4e-03,  1.4e-03,\n",
      "       -1.4e-03,  1.4e-03,  1.4e-03,  1.4e-03])]\n"
     ]
    }
   ],
   "source": [
    "sample_data=[[171.04100,208.31300,75.50100,0.00455,0.00003,0.00250,0.00234,0.00750,0.01966,0.18600,0.00889,0.01169,0.01872,0.02666,0.01095,25.90800,0.418622,0.720916,-6.183590,0.226278,2.589702,0.147403],\n",
    "          [146.84500,208.70100,81.73700,0.00496,0.00003,0.00250,0.00275,0.00749,0.01919,0.19800,0.00883,0.01144,0.01826,0.02650,0.01328,25.11900,0.358773,0.726652,-6.271690,0.196102,2.314209,0.162999],\n",
    "          [155.35800,227.38300,80.05500,0.00310,0.00002,0.00159,0.00176,0.00476,0.01718,0.16100,0.00769,0.01012,0.01661,0.02307,0.00677,25.97000,0.470478,0.676258,-7.120925,0.279789,2.241742,0.108514],\n",
    "          [162.56800,198.34600,77.63000,0.00502,0.00003,0.00280,0.00253,0.00841,0.01791,0.16800,0.00793,0.01057,0.01799,0.02380,0.01170,25.67800,0.427785,0.723797,-6.635729,0.209866,1.957961,0.135242],\n",
    "          [120.26700,137.24400,114.82000,0.00333,0.00003,0.00155,0.00202,0.00466,0.01608,0.14000,0.00779,0.00937,0.01351,0.02337,0.00607,24.88600,0.596040,0.764112,-5.634322,0.257682,1.854785,0.211756],\n",
    "          [197.07600,206.89600,192.05500,0.00289,0.00001,0.00166,0.00168,0.00498,0.01098,0.09700,0.00563,0.00680,0.00802,0.01689,0.00339,26.77500,0.422229,0.741367,-7.348300,0.177551,1.743867,0.085569],\n",
    "          [199.22800,209.51200,192.09100,0.00241,0.00001,0.00134,0.00138,0.00402,0.01015,0.08900,0.00504,0.00641,0.00762,0.01513,0.00167,30.94000,0.432439,0.742055,-7.682587,0.173319,2.103106,0.068501],\n",
    "          [198.38300,215.20300,193.10400,0.00212,0.00001,0.00113,0.00135,0.00339,0.01263,0.11100,0.00640,0.00825,0.00951,0.01919,0.00119,30.77500,0.465946,0.738703,-7.067931,0.175181,1.512275,0.096320],\n",
    "          [202.26600,211.60400,197.07900,0.00180,0.000009,0.00093,0.00107,0.00278,0.00954,0.08500,0.00469,0.00606,0.00719,0.01407,0.00072,32.68400,0.368535,0.742133,-7.695734,0.178540,1.544609,0.056141],\n",
    "          [203.18400,211.52600,196.16000,0.00178,0.000009,0.00094,0.00106,0.00283,0.00958,0.08500,0.00468,0.00610,0.00726,0.01403,0.00065,33.04700,0.340068,0.741899,-7.964984,0.163519,1.423287,0.044539]\n",
    "]\n",
    "new_data =[]\n",
    "new_data =[feature_vector[0]]\n",
    "print(new_data)"
   ]
  },
  {
   "cell_type": "code",
   "execution_count": 98,
   "metadata": {},
   "outputs": [
    {
     "name": "stdout",
     "output_type": "stream",
     "text": [
      "[[0. 0. 0. 0. 0. 0. 0. 0. 0. 0. 0. 0. 0. 0. 0. 0. 0. 0. 0. 0. 0. 0.]]\n"
     ]
    }
   ],
   "source": [
    "scaler=StandardScaler()\n",
    "new_data_scaled=scaler.fit_transform(new_data)\n",
    "print(new_data_scaled)"
   ]
  },
  {
   "cell_type": "code",
   "execution_count": 99,
   "metadata": {},
   "outputs": [],
   "source": [
    "# Load the pre-trained SVM model\n",
    "svm_model = joblib.load('C:/Users/hp/Documents/PYTHON/Parkinsons detection/model.pkl')"
   ]
  },
  {
   "cell_type": "code",
   "execution_count": 100,
   "metadata": {},
   "outputs": [],
   "source": [
    "# Perform prediction using the SVM model\n",
    "prediction = svm_model.predict(feature_vector)\n"
   ]
  },
  {
   "cell_type": "code",
   "execution_count": 104,
   "metadata": {},
   "outputs": [
    {
     "name": "stdout",
     "output_type": "stream",
     "text": [
      "Prediction: [0]\n"
     ]
    }
   ],
   "source": [
    "# Print the prediction\n",
    "print(f\"Prediction: {prediction}\")"
   ]
  }
 ],
 "metadata": {
  "kernelspec": {
   "display_name": "Python 3",
   "language": "python",
   "name": "python3"
  },
  "language_info": {
   "codemirror_mode": {
    "name": "ipython",
    "version": 3
   },
   "file_extension": ".py",
   "mimetype": "text/x-python",
   "name": "python",
   "nbconvert_exporter": "python",
   "pygments_lexer": "ipython3",
   "version": "3.11.2"
  },
  "orig_nbformat": 4
 },
 "nbformat": 4,
 "nbformat_minor": 2
}
